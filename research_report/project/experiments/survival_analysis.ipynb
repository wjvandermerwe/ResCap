{
 "cells": [
  {
   "metadata": {
    "ExecuteTime": {
     "end_time": "2024-08-13T17:39:41.134916Z",
     "start_time": "2024-08-13T17:39:41.035502Z"
    }
   },
   "cell_type": "code",
   "source": [
    "from utils.config import load_datasets, get_generated_gan_train_dataset_indexes, get_test_dataset_indexes\n",
    "  \n",
    "                \n",
    "test_folder = \"../outputs/datasets\"\n",
    "test_indexes = get_test_dataset_indexes(test_folder)\n",
    "test_sets = load_datasets(folder=test_folder, names=test_indexes)\n",
    "\n",
    "folder = \"../outputs/generated_datasets\"\n",
    "dataset_indexes = get_generated_gan_train_dataset_indexes(folder)\n",
    "datasets = load_datasets(folder=folder, names=dataset_indexes)"
   ],
   "id": "257c33a130be350a",
   "outputs": [
    {
     "name": "stdout",
     "output_type": "stream",
     "text": [
      "Error loading ..\\outputs\\generated_datasets\\acath_train_gan.pkl: No module named 'synthcity'\n",
      "Error loading ..\\outputs\\generated_datasets\\actg_train_gan.pkl: No module named 'synthcity'\n",
      "Error loading ..\\outputs\\generated_datasets\\Aids2_train_gan.pkl: No module named 'synthcity'\n",
      "Error loading ..\\outputs\\generated_datasets\\Bergamaschi_train_gan.pkl: No module named 'synthcity'\n",
      "Error loading ..\\outputs\\generated_datasets\\breast_train_gan.pkl: No module named 'synthcity'\n",
      "Error loading ..\\outputs\\generated_datasets\\burn_train_gan.pkl: No module named 'synthcity'\n",
      "Error loading ..\\outputs\\generated_datasets\\cancer_train_gan.pkl: No module named 'synthcity'\n",
      "Error loading ..\\outputs\\generated_datasets\\cgd_train_gan.pkl: No module named 'synthcity'\n"
     ]
    }
   ],
   "execution_count": 3
  },
  {
   "metadata": {},
   "cell_type": "markdown",
   "source": "",
   "id": "dfb35de4bd7943c4"
  },
  {
   "metadata": {},
   "cell_type": "code",
   "outputs": [],
   "execution_count": null,
   "source": [
    "from utils.models import run_rsf_model, run_cox_model\n",
    "\n",
    "\n",
    "\n",
    "data = run_rsf_model()\n"
   ],
   "id": "4fd675ac9e96b7f3"
  }
 ],
 "metadata": {
  "kernelspec": {
   "display_name": "Python 3",
   "language": "python",
   "name": "python3"
  },
  "language_info": {
   "codemirror_mode": {
    "name": "ipython",
    "version": 2
   },
   "file_extension": ".py",
   "mimetype": "text/x-python",
   "name": "python",
   "nbconvert_exporter": "python",
   "pygments_lexer": "ipython2",
   "version": "2.7.6"
  }
 },
 "nbformat": 4,
 "nbformat_minor": 5
}
