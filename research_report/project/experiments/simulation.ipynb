{
 "cells": [
  {
   "metadata": {
    "ExecuteTime": {
     "end_time": "2024-08-20T15:31:02.924554Z",
     "start_time": "2024-08-20T15:31:02.919553Z"
    }
   },
   "cell_type": "code",
   "source": [
    "from utils.config import load_datasets, get_train_dataset_indexes\n",
    "\n",
    "folder = \"../outputs/datasets\" # load saved data\n",
    "# dataset_indexes = get_train_dataset_indexes(folder)\n",
    "dataset_indexes = ['burn']\n",
    "datasets = load_datasets(folder=folder, names=dataset_indexes)\n"
   ],
   "id": "a89efe4305ed9eac",
   "outputs": [],
   "execution_count": 24
  }
 ],
 "metadata": {
  "kernelspec": {
   "display_name": "Python 3",
   "language": "python",
   "name": "python3"
  },
  "language_info": {
   "codemirror_mode": {
    "name": "ipython",
    "version": 2
   },
   "file_extension": ".py",
   "mimetype": "text/x-python",
   "name": "python",
   "nbconvert_exporter": "python",
   "pygments_lexer": "ipython2",
   "version": "2.7.6"
  }
 },
 "nbformat": 4,
 "nbformat_minor": 5
}
