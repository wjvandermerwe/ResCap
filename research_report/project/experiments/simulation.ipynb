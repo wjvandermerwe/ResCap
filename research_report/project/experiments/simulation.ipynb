{
 "cells": [
  {
   "metadata": {
    "ExecuteTime": {
     "end_time": "2024-08-05T18:28:01.220320Z",
     "start_time": "2024-08-05T18:28:00.836588Z"
    }
   },
   "cell_type": "code",
   "source": [
    "from utils.config import load_datasets\n",
    "\n",
    "\n",
    "def load_dataset(datasets):\n",
    "    datasets = load_datasets(folder=\"datasets\", names=datasets)\n",
    "    return datasets\n",
    "\n",
    "datasets = load_dataset(['dataDIVAT1_train'])\n",
    "print(datasets['dataDIVAT1_train'].head())"
   ],
   "id": "a89efe4305ed9eac",
   "outputs": [
    {
     "name": "stdout",
     "output_type": "stream",
     "text": [
      "       pid  event  time   num_ageR  num_year_tx fac_sexR fac_graft fac_year_tx\n",
      "1417  1417      0   182  56.732559         2012   female       Yes        2012\n",
      "3683  3683      0  1725  59.314423         2007   female        No        2007\n",
      "4807  4807      0    85  49.619428         2007     male       Yes        2007\n",
      "3994  3994      0     1  27.946008         2011     male        No        2011\n",
      "3220  3220      1   518  26.861790         2000     male        No        2000\n"
     ]
    }
   ],
   "execution_count": 1
  },
  {
   "metadata": {
    "ExecuteTime": {
     "end_time": "2024-08-04T19:59:47.949152Z",
     "start_time": "2024-08-04T19:59:47.945494Z"
    }
   },
   "cell_type": "code",
   "source": [
    "import torch\n",
    "torch.cuda.is_available()"
   ],
   "id": "6f51c3a3d3765456",
   "outputs": [
    {
     "data": {
      "text/plain": [
       "True"
      ]
     },
     "execution_count": 3,
     "metadata": {},
     "output_type": "execute_result"
    }
   ],
   "execution_count": 3
  },
  {
   "metadata": {},
   "cell_type": "markdown",
   "source": "Survival Gan",
   "id": "754755fb7278840c"
  },
  {
   "metadata": {
    "ExecuteTime": {
     "end_time": "2024-08-05T18:40:06.222371Z",
     "start_time": "2024-08-05T18:35:57.346412Z"
    }
   },
   "cell_type": "code",
   "source": [
    "from synthcity.plugins import Plugins\n",
    "from synthcity.plugins.core.dataloader import SurvivalAnalysisDataLoader\n",
    "import torch \n",
    "\n",
    "\n",
    "device = torch.device(\"cuda\")\n",
    "# https://github.com/vanderschaarlab/synthcity/issues/249\n",
    "data = SurvivalAnalysisDataLoader(datasets['dataDIVAT1_train'], target_column=\"event\", time_to_event_column=\"time\")\n",
    "model = Plugins().get(\"survival_gan\", device=device)\n",
    "model.fit(data)"
   ],
   "id": "initial_id",
   "outputs": [
    {
     "name": "stderr",
     "output_type": "stream",
     "text": [
      "  8%|▊         | 849/10000 [04:04<44:00,  3.47it/s]  \n"
     ]
    },
    {
     "data": {
      "text/plain": [
       "<synthcity.plugins.survival_analysis.plugin_survival_gan.SurvivalGANPlugin at 0x1d5f9f3e600>"
      ]
     },
     "execution_count": 6,
     "metadata": {},
     "output_type": "execute_result"
    }
   ],
   "execution_count": 6
  },
  {
   "metadata": {},
   "cell_type": "markdown",
   "source": "Survival VAE",
   "id": "a3edcb1cf9c313f2"
  },
  {
   "metadata": {
    "ExecuteTime": {
     "end_time": "2024-08-05T18:57:53.314347Z",
     "start_time": "2024-08-05T18:54:38.669244Z"
    }
   },
   "cell_type": "code",
   "source": [
    "from synthcity.plugins import Plugins\n",
    "from synthcity.plugins.core.dataloader import SurvivalAnalysisDataLoader\n",
    "import torch \n",
    "\n",
    "\n",
    "device = torch.device(\"cuda\")\n",
    "\n",
    "data = SurvivalAnalysisDataLoader(datasets['dataDIVAT1_train'], target_column=\"event\", time_to_event_column=\"time\")\n",
    "model = Plugins().get(\"survae\", device=device)\n",
    "model.fit(data)\n"
   ],
   "id": "d005b2177dcb4535",
   "outputs": [
    {
     "name": "stderr",
     "output_type": "stream",
     "text": [
      "100%|██████████| 1000/1000 [03:10<00:00,  5.25it/s]\n"
     ]
    },
    {
     "data": {
      "text/plain": [
       "<synthcity.plugins.survival_analysis.plugin_survae.SurVAEPlugin at 0x1d632d6ce00>"
      ]
     },
     "execution_count": 13,
     "metadata": {},
     "output_type": "execute_result"
    }
   ],
   "execution_count": 13
  },
  {
   "metadata": {
    "ExecuteTime": {
     "end_time": "2024-08-05T18:57:56.102063Z",
     "start_time": "2024-08-05T18:57:55.911591Z"
    }
   },
   "cell_type": "code",
   "source": "model.generate(1000)",
   "id": "5c7561c1afc175eb",
   "outputs": [
    {
     "data": {
      "text/plain": [
       "      pid  event  time   num_ageR  num_year_tx fac_sexR fac_graft fac_year_tx\n",
       "0     656      0  1441  29.595931         2007     male        No        2007\n",
       "1    4048      0   280  44.408547         2006   female        No        2006\n",
       "2    2796      0   102  71.670634         2011     male        No        2011\n",
       "3    5367      0   284  39.587495         2007   female        No        2007\n",
       "4    1556      0    19  47.298226         2006     male        No        2006\n",
       "..    ...    ...   ...        ...          ...      ...       ...         ...\n",
       "995  5181      0   329  58.306481         2009   female        No        2009\n",
       "996  2282      0  2879  65.358153         2001   female       Yes        2001\n",
       "997  3356      0   416  56.848102         2004     male        No        2004\n",
       "998  4227      0   789  24.972388         2007   female        No        2007\n",
       "999  3571      0   574  60.800601         2004   female        No        2004\n",
       "\n",
       "[1000 rows x 8 columns]"
      ],
      "text/html": [
       "<div>\n",
       "<style scoped>\n",
       "    .dataframe tbody tr th:only-of-type {\n",
       "        vertical-align: middle;\n",
       "    }\n",
       "\n",
       "    .dataframe tbody tr th {\n",
       "        vertical-align: top;\n",
       "    }\n",
       "\n",
       "    .dataframe thead th {\n",
       "        text-align: right;\n",
       "    }\n",
       "</style>\n",
       "<table border=\"1\" class=\"dataframe\">\n",
       "  <thead>\n",
       "    <tr style=\"text-align: right;\">\n",
       "      <th></th>\n",
       "      <th>pid</th>\n",
       "      <th>event</th>\n",
       "      <th>time</th>\n",
       "      <th>num_ageR</th>\n",
       "      <th>num_year_tx</th>\n",
       "      <th>fac_sexR</th>\n",
       "      <th>fac_graft</th>\n",
       "      <th>fac_year_tx</th>\n",
       "    </tr>\n",
       "  </thead>\n",
       "  <tbody>\n",
       "    <tr>\n",
       "      <th>0</th>\n",
       "      <td>656</td>\n",
       "      <td>0</td>\n",
       "      <td>1441</td>\n",
       "      <td>29.595931</td>\n",
       "      <td>2007</td>\n",
       "      <td>male</td>\n",
       "      <td>No</td>\n",
       "      <td>2007</td>\n",
       "    </tr>\n",
       "    <tr>\n",
       "      <th>1</th>\n",
       "      <td>4048</td>\n",
       "      <td>0</td>\n",
       "      <td>280</td>\n",
       "      <td>44.408547</td>\n",
       "      <td>2006</td>\n",
       "      <td>female</td>\n",
       "      <td>No</td>\n",
       "      <td>2006</td>\n",
       "    </tr>\n",
       "    <tr>\n",
       "      <th>2</th>\n",
       "      <td>2796</td>\n",
       "      <td>0</td>\n",
       "      <td>102</td>\n",
       "      <td>71.670634</td>\n",
       "      <td>2011</td>\n",
       "      <td>male</td>\n",
       "      <td>No</td>\n",
       "      <td>2011</td>\n",
       "    </tr>\n",
       "    <tr>\n",
       "      <th>3</th>\n",
       "      <td>5367</td>\n",
       "      <td>0</td>\n",
       "      <td>284</td>\n",
       "      <td>39.587495</td>\n",
       "      <td>2007</td>\n",
       "      <td>female</td>\n",
       "      <td>No</td>\n",
       "      <td>2007</td>\n",
       "    </tr>\n",
       "    <tr>\n",
       "      <th>4</th>\n",
       "      <td>1556</td>\n",
       "      <td>0</td>\n",
       "      <td>19</td>\n",
       "      <td>47.298226</td>\n",
       "      <td>2006</td>\n",
       "      <td>male</td>\n",
       "      <td>No</td>\n",
       "      <td>2006</td>\n",
       "    </tr>\n",
       "    <tr>\n",
       "      <th>...</th>\n",
       "      <td>...</td>\n",
       "      <td>...</td>\n",
       "      <td>...</td>\n",
       "      <td>...</td>\n",
       "      <td>...</td>\n",
       "      <td>...</td>\n",
       "      <td>...</td>\n",
       "      <td>...</td>\n",
       "    </tr>\n",
       "    <tr>\n",
       "      <th>995</th>\n",
       "      <td>5181</td>\n",
       "      <td>0</td>\n",
       "      <td>329</td>\n",
       "      <td>58.306481</td>\n",
       "      <td>2009</td>\n",
       "      <td>female</td>\n",
       "      <td>No</td>\n",
       "      <td>2009</td>\n",
       "    </tr>\n",
       "    <tr>\n",
       "      <th>996</th>\n",
       "      <td>2282</td>\n",
       "      <td>0</td>\n",
       "      <td>2879</td>\n",
       "      <td>65.358153</td>\n",
       "      <td>2001</td>\n",
       "      <td>female</td>\n",
       "      <td>Yes</td>\n",
       "      <td>2001</td>\n",
       "    </tr>\n",
       "    <tr>\n",
       "      <th>997</th>\n",
       "      <td>3356</td>\n",
       "      <td>0</td>\n",
       "      <td>416</td>\n",
       "      <td>56.848102</td>\n",
       "      <td>2004</td>\n",
       "      <td>male</td>\n",
       "      <td>No</td>\n",
       "      <td>2004</td>\n",
       "    </tr>\n",
       "    <tr>\n",
       "      <th>998</th>\n",
       "      <td>4227</td>\n",
       "      <td>0</td>\n",
       "      <td>789</td>\n",
       "      <td>24.972388</td>\n",
       "      <td>2007</td>\n",
       "      <td>female</td>\n",
       "      <td>No</td>\n",
       "      <td>2007</td>\n",
       "    </tr>\n",
       "    <tr>\n",
       "      <th>999</th>\n",
       "      <td>3571</td>\n",
       "      <td>0</td>\n",
       "      <td>574</td>\n",
       "      <td>60.800601</td>\n",
       "      <td>2004</td>\n",
       "      <td>female</td>\n",
       "      <td>No</td>\n",
       "      <td>2004</td>\n",
       "    </tr>\n",
       "  </tbody>\n",
       "</table>\n",
       "<p>1000 rows × 8 columns</p>\n",
       "</div>"
      ]
     },
     "execution_count": 14,
     "metadata": {},
     "output_type": "execute_result"
    }
   ],
   "execution_count": 14
  }
 ],
 "metadata": {
  "kernelspec": {
   "display_name": "Python 3",
   "language": "python",
   "name": "python3"
  },
  "language_info": {
   "codemirror_mode": {
    "name": "ipython",
    "version": 2
   },
   "file_extension": ".py",
   "mimetype": "text/x-python",
   "name": "python",
   "nbconvert_exporter": "python",
   "pygments_lexer": "ipython2",
   "version": "2.7.6"
  }
 },
 "nbformat": 4,
 "nbformat_minor": 5
}
