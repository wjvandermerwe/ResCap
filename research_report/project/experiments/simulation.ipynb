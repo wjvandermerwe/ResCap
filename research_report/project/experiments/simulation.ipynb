{
 "cells": [
  {
   "metadata": {
    "ExecuteTime": {
     "end_time": "2024-08-11T16:58:01.559193Z",
     "start_time": "2024-08-11T16:58:01.511531Z"
    }
   },
   "cell_type": "code",
   "source": [
    "from utils.config import load_datasets, get_train_dataset_indexes, get_test_dataset_indexes\n",
    "\n",
    "folder = \"../outputs/datasets\"\n",
    "\n",
    "dataset_indexes = get_train_dataset_indexes(folder)\n",
    "\n",
    "datasets = load_datasets(folder=folder, names=dataset_indexes)\n"
   ],
   "id": "a89efe4305ed9eac",
   "outputs": [],
   "execution_count": 1
  },
  {
   "metadata": {
    "ExecuteTime": {
     "end_time": "2024-08-11T16:32:07.824330Z",
     "start_time": "2024-08-11T16:32:07.295982Z"
    }
   },
   "cell_type": "code",
   "source": [
    "from synthcity.plugins import Plugins\n",
    "from synthcity.plugins.core.dataloader import SurvivalAnalysisDataLoader\n",
    "\n",
    "\n",
    "# https://github.com/vanderschaarlab/synthcity/issues/249\n",
    "def run_surv_gan(data_loader, device):\n",
    "    model = Plugins().get(\"survival_gan\", device=device)\n",
    "    model.fit(data_loader)\n",
    "    return model\n",
    "    \n",
    "def run_surv_vae(data_loader, device):\n",
    "    model = Plugins().get(\"survae\", device=device)\n",
    "    model.fit(data_loader)\n",
    "    return model"
   ],
   "id": "initial_id",
   "outputs": [
    {
     "ename": "ModuleNotFoundError",
     "evalue": "No module named 'synthcity'",
     "output_type": "error",
     "traceback": [
      "\u001B[1;31m---------------------------------------------------------------------------\u001B[0m",
      "\u001B[1;31mModuleNotFoundError\u001B[0m                       Traceback (most recent call last)",
      "Cell \u001B[1;32mIn[2], line 1\u001B[0m\n\u001B[1;32m----> 1\u001B[0m \u001B[38;5;28;01mfrom\u001B[39;00m \u001B[38;5;21;01msynthcity\u001B[39;00m\u001B[38;5;21;01m.\u001B[39;00m\u001B[38;5;21;01mplugins\u001B[39;00m \u001B[38;5;28;01mimport\u001B[39;00m Plugins\n\u001B[0;32m      2\u001B[0m \u001B[38;5;28;01mfrom\u001B[39;00m \u001B[38;5;21;01msynthcity\u001B[39;00m\u001B[38;5;21;01m.\u001B[39;00m\u001B[38;5;21;01mplugins\u001B[39;00m\u001B[38;5;21;01m.\u001B[39;00m\u001B[38;5;21;01mcore\u001B[39;00m\u001B[38;5;21;01m.\u001B[39;00m\u001B[38;5;21;01mdataloader\u001B[39;00m \u001B[38;5;28;01mimport\u001B[39;00m SurvivalAnalysisDataLoader\n\u001B[0;32m      5\u001B[0m \u001B[38;5;66;03m# https://github.com/vanderschaarlab/synthcity/issues/249\u001B[39;00m\n",
      "\u001B[1;31mModuleNotFoundError\u001B[0m: No module named 'synthcity'"
     ]
    }
   ],
   "execution_count": 2
  },
  {
   "metadata": {},
   "cell_type": "code",
   "source": [
    "from synthcity.metrics.eval_sanity import CloseValuesProbability, DataMismatchScore, CommonRowsProportion, NearestSyntheticNeighborDistance, DistantValuesProbability\n",
    "\n",
    "def evaluate_model(data_loader, generated_data):\n",
    "    # Initialize metrics\n",
    "    close = CloseValuesProbability()\n",
    "    data_mismatch = DataMismatchScore()\n",
    "    proportion = CommonRowsProportion()\n",
    "    nn_distance = NearestSyntheticNeighborDistance()\n",
    "    distant = DistantValuesProbability()\n",
    "    \n",
    "    # Evaluate metrics\n",
    "    close_val = close.evaluate(data_loader, generated_data)['score']\n",
    "    mis = data_mismatch.evaluate(data_loader, generated_data)['score']\n",
    "    prop = proportion.evaluate(data_loader, generated_data)['score']\n",
    "    nn_dist = nn_distance.evaluate(data_loader, generated_data)['mean']\n",
    "    dist = distant.evaluate(data_loader, generated_data)['score']\n",
    "    \n",
    "    # Determine if metrics are within expected values\n",
    "    correct = True\n",
    "\n",
    "    # Define correctness based on descriptions\n",
    "    if not (0 <= close_val <= 1):\n",
    "        correct = False\n",
    "    if not (0 <= mis <= 1):\n",
    "        correct = False\n",
    "    if not (0 <= prop <= 1):\n",
    "        correct = False\n",
    "    if nn_dist < 0:\n",
    "        correct = False\n",
    "    if not (0 <= dist <= 1):\n",
    "        correct = False\n",
    "    \n",
    "    # Prepare results\n",
    "    results = {\n",
    "        'close_values': {\n",
    "            \"value\": close_val,\n",
    "            \"description\": \"0 means there is no chance to have synthetic rows similar to the real. 1 means that all the synthetic rows are similar to some real rows.\"\n",
    "        },\n",
    "        'data_mismatch': {\n",
    "            \"value\": mis,\n",
    "            \"description\": \"0: no datatype mismatch. 1: complete data type mismatch between the datasets.\"\n",
    "        },\n",
    "        'proportion': {\n",
    "            \"value\": prop,\n",
    "            \"description\": \"0: there are no common rows between the real and synthetic datasets. 1: all the rows in the real dataset are leaked in the synthetic dataset.\",\n",
    "        },\n",
    "        'nn_distance': {\n",
    "            \"value\": nn_dist,\n",
    "            \"description\": \"Computes the distance from the real data to the closest neighbor in the synthetic data\"\n",
    "        },\n",
    "        'distant_values': {\n",
    "            \"value\": dist,\n",
    "            \"description\": \"0 means there is no chance to have rows in the synthetic far away from the real data. 1 means all the synthetic datapoints are far away from the real data.\"\n",
    "        }\n",
    "    }\n",
    "    \n",
    "    return results, correct\n"
   ],
   "id": "5e07eb06a09ca576",
   "outputs": [],
   "execution_count": null
  },
  {
   "metadata": {
    "ExecuteTime": {
     "end_time": "2024-08-11T15:49:13.347021Z",
     "start_time": "2024-08-11T15:48:28.720445Z"
    }
   },
   "cell_type": "code",
   "source": [
    "from utils.preprocess import impute_missing_values\n",
    "from synthcity.utils.serialization import save_to_file\n",
    "from utils.config import save_dataset, save_checkpoint, load_checkpoint\n",
    "import torch\n",
    "start_index = load_checkpoint()\n",
    "device = torch.device('cuda')\n",
    "\n",
    "for index, dataset_index in enumerate(dataset_indexes):\n",
    "    if index <= start_index:\n",
    "        continue\n",
    "    print(f\"training model on {dataset_index}\")\n",
    "    ds_train = datasets[dataset_index]\n",
    "    ds_train = impute_missing_values(ds_train)\n",
    "    # print(ds_train.head())\n",
    "    data_loader = SurvivalAnalysisDataLoader(ds_train, target_column=\"event\", time_to_event_column=\"time\")\n",
    "    surv_gan_model = run_surv_gan(data_loader, device)\n",
    "    surv_vae_model = run_surv_vae(data_loader, device)\n",
    "    \n",
    "    save_to_file(f\"../outputs/model_outputs/sim_model_{dataset_index}_gan.pkl\", surv_gan_model)\n",
    "    save_to_file(f\"../outputs/model_outputs/sim_model_{dataset_index}_vae.pkl\", surv_vae_model)\n",
    "    \n",
    "    generated_data_gan = surv_gan_model.generate(5000)\n",
    "    generated_data_vae = surv_vae_model.generate(5000)\n",
    "    \n",
    "    _, eval_gan = evaluate_model(data_loader, generated_data_gan)\n",
    "    _, eval_vae = evaluate_model(data_loader, generated_data_vae)\n",
    "    \n",
    "    print(f\"training completed, eval: gan:{eval_gan} vae:{eval_vae}\")\n",
    "    \n",
    "    generated_data_vae = generated_data_vae.dataframe()\n",
    "    generated_data_gan = generated_data_gan.dataframe()\n",
    "    \n",
    "    save_dataset(generated_data_gan, f\"{dataset_index}_gan\",\"../outputs/generated_datasets\")\n",
    "    save_dataset(generated_data_vae, f\"{dataset_index}_vae\",\"../outputs/generated_datasets\")\n",
    "    save_checkpoint(index)\n",
    "    "
   ],
   "id": "256a7e54de2594b0",
   "outputs": [
    {
     "name": "stderr",
     "output_type": "stream",
     "text": [
      "[2024-08-11T17:48:28.727445+0200][47092][CRITICAL] module disabled: C:\\Users\\johan\\anaconda3\\envs\\research_project_simulation_env\\lib\\site-packages\\synthcity\\plugins\\generic\\plugin_goggle.py\n",
      "[2024-08-11T17:48:28.888376+0200][47092][CRITICAL] module disabled: C:\\Users\\johan\\anaconda3\\envs\\research_project_simulation_env\\lib\\site-packages\\synthcity\\plugins\\generic\\plugin_goggle.py\n"
     ]
    },
    {
     "name": "stdout",
     "output_type": "stream",
     "text": [
      "training model on cost_train\n"
     ]
    },
    {
     "name": "stderr",
     "output_type": "stream",
     "text": [
      "  5%|▍         | 499/10000 [00:23<07:23, 21.40it/s]\n",
      "[2024-08-11T17:48:53.035792+0200][47092][CRITICAL] module disabled: C:\\Users\\johan\\anaconda3\\envs\\research_project_simulation_env\\lib\\site-packages\\synthcity\\plugins\\generic\\plugin_goggle.py\n",
      "[2024-08-11T17:48:53.066791+0200][47092][CRITICAL] module disabled: C:\\Users\\johan\\anaconda3\\envs\\research_project_simulation_env\\lib\\site-packages\\synthcity\\plugins\\generic\\plugin_goggle.py\n",
      " 40%|████      | 400/1000 [00:17<00:26, 22.63it/s]\n",
      "[2024-08-11T17:49:12.705438+0200][47092][CRITICAL] module disabled: C:\\Users\\johan\\anaconda3\\envs\\research_project_simulation_env\\lib\\site-packages\\synthcity\\plugins\\generic\\plugin_goggle.py\n",
      "[2024-08-11T17:49:12.805151+0200][47092][CRITICAL] module disabled: C:\\Users\\johan\\anaconda3\\envs\\research_project_simulation_env\\lib\\site-packages\\synthcity\\plugins\\generic\\plugin_goggle.py\n"
     ]
    },
    {
     "name": "stdout",
     "output_type": "stream",
     "text": [
      "training completed, eval: gan:True vae:True\n",
      "training model on d.oropha.rec_train\n"
     ]
    },
    {
     "ename": "ValueError",
     "evalue": "Need `time` to have same type as `self.durations`.",
     "output_type": "error",
     "traceback": [
      "\u001B[1;31m---------------------------------------------------------------------------\u001B[0m",
      "\u001B[1;31mValueError\u001B[0m                                Traceback (most recent call last)",
      "Cell \u001B[1;32mIn[10], line 16\u001B[0m\n\u001B[0;32m     14\u001B[0m \u001B[38;5;66;03m# print(ds_train.head())\u001B[39;00m\n\u001B[0;32m     15\u001B[0m data_loader \u001B[38;5;241m=\u001B[39m SurvivalAnalysisDataLoader(ds_train, target_column\u001B[38;5;241m=\u001B[39m\u001B[38;5;124m\"\u001B[39m\u001B[38;5;124mevent\u001B[39m\u001B[38;5;124m\"\u001B[39m, time_to_event_column\u001B[38;5;241m=\u001B[39m\u001B[38;5;124m\"\u001B[39m\u001B[38;5;124mtime\u001B[39m\u001B[38;5;124m\"\u001B[39m)\n\u001B[1;32m---> 16\u001B[0m surv_gan_model \u001B[38;5;241m=\u001B[39m \u001B[43mrun_surv_gan\u001B[49m\u001B[43m(\u001B[49m\u001B[43mdata_loader\u001B[49m\u001B[43m,\u001B[49m\u001B[43m \u001B[49m\u001B[43mdevice\u001B[49m\u001B[43m)\u001B[49m\n\u001B[0;32m     17\u001B[0m surv_vae_model \u001B[38;5;241m=\u001B[39m run_surv_vae(data_loader, device)\n\u001B[0;32m     19\u001B[0m save_to_file(\u001B[38;5;124mf\u001B[39m\u001B[38;5;124m\"\u001B[39m\u001B[38;5;124m../outputs/model_outputs/sim_model_\u001B[39m\u001B[38;5;132;01m{\u001B[39;00mdataset_index\u001B[38;5;132;01m}\u001B[39;00m\u001B[38;5;124m_gan.pkl\u001B[39m\u001B[38;5;124m\"\u001B[39m, surv_gan_model)\n",
      "Cell \u001B[1;32mIn[2], line 8\u001B[0m, in \u001B[0;36mrun_surv_gan\u001B[1;34m(data_loader, device)\u001B[0m\n\u001B[0;32m      6\u001B[0m \u001B[38;5;28;01mdef\u001B[39;00m \u001B[38;5;21mrun_surv_gan\u001B[39m(data_loader, device):\n\u001B[0;32m      7\u001B[0m     model \u001B[38;5;241m=\u001B[39m Plugins()\u001B[38;5;241m.\u001B[39mget(\u001B[38;5;124m\"\u001B[39m\u001B[38;5;124msurvival_gan\u001B[39m\u001B[38;5;124m\"\u001B[39m, device\u001B[38;5;241m=\u001B[39mdevice)\n\u001B[1;32m----> 8\u001B[0m     \u001B[43mmodel\u001B[49m\u001B[38;5;241;43m.\u001B[39;49m\u001B[43mfit\u001B[49m\u001B[43m(\u001B[49m\u001B[43mdata_loader\u001B[49m\u001B[43m)\u001B[49m\n\u001B[0;32m      9\u001B[0m     \u001B[38;5;28;01mreturn\u001B[39;00m model\n",
      "File \u001B[1;32m~\\anaconda3\\envs\\research_project_simulation_env\\lib\\site-packages\\pydantic\\decorator.py:40\u001B[0m, in \u001B[0;36mpydantic.decorator.validate_arguments.validate.wrapper_function\u001B[1;34m()\u001B[0m\n",
      "File \u001B[1;32m~\\anaconda3\\envs\\research_project_simulation_env\\lib\\site-packages\\pydantic\\decorator.py:134\u001B[0m, in \u001B[0;36mpydantic.decorator.ValidatedFunction.call\u001B[1;34m()\u001B[0m\n",
      "File \u001B[1;32m~\\anaconda3\\envs\\research_project_simulation_env\\lib\\site-packages\\pydantic\\decorator.py:206\u001B[0m, in \u001B[0;36mpydantic.decorator.ValidatedFunction.execute\u001B[1;34m()\u001B[0m\n",
      "File \u001B[1;32m~\\anaconda3\\envs\\research_project_simulation_env\\lib\\site-packages\\synthcity\\plugins\\core\\plugin.py:256\u001B[0m, in \u001B[0;36mPlugin.fit\u001B[1;34m(self, X, *args, **kwargs)\u001B[0m\n\u001B[0;32m    248\u001B[0m         X, \u001B[38;5;28mself\u001B[39m\u001B[38;5;241m.\u001B[39mcompress_context \u001B[38;5;241m=\u001B[39m load_from_file(bkp_file)\n\u001B[0;32m    250\u001B[0m \u001B[38;5;28mself\u001B[39m\u001B[38;5;241m.\u001B[39m_training_schema \u001B[38;5;241m=\u001B[39m Schema(\n\u001B[0;32m    251\u001B[0m     data\u001B[38;5;241m=\u001B[39mX,\n\u001B[0;32m    252\u001B[0m     sampling_strategy\u001B[38;5;241m=\u001B[39m\u001B[38;5;28mself\u001B[39m\u001B[38;5;241m.\u001B[39msampling_strategy,\n\u001B[0;32m    253\u001B[0m     random_state\u001B[38;5;241m=\u001B[39m\u001B[38;5;28mself\u001B[39m\u001B[38;5;241m.\u001B[39mrandom_state,\n\u001B[0;32m    254\u001B[0m )\n\u001B[1;32m--> 256\u001B[0m output \u001B[38;5;241m=\u001B[39m \u001B[38;5;28mself\u001B[39m\u001B[38;5;241m.\u001B[39m_fit(X, \u001B[38;5;241m*\u001B[39margs, \u001B[38;5;241m*\u001B[39m\u001B[38;5;241m*\u001B[39mkwargs)\n\u001B[0;32m    257\u001B[0m \u001B[38;5;28mself\u001B[39m\u001B[38;5;241m.\u001B[39mfitted \u001B[38;5;241m=\u001B[39m \u001B[38;5;28;01mTrue\u001B[39;00m\n\u001B[0;32m    259\u001B[0m \u001B[38;5;28;01mreturn\u001B[39;00m output\n",
      "File \u001B[1;32m~\\anaconda3\\envs\\research_project_simulation_env\\lib\\site-packages\\synthcity\\plugins\\survival_analysis\\plugin_survival_gan.py:203\u001B[0m, in \u001B[0;36mSurvivalGANPlugin._fit\u001B[1;34m(self, X, cond, *args, **kwargs)\u001B[0m\n\u001B[0;32m    188\u001B[0m     train_conditional \u001B[38;5;241m=\u001B[39m BinEncoder()\u001B[38;5;241m.\u001B[39mfit_transform(precond)\n\u001B[0;32m    190\u001B[0m \u001B[38;5;28mself\u001B[39m\u001B[38;5;241m.\u001B[39mmodel \u001B[38;5;241m=\u001B[39m SurvivalPipeline(\n\u001B[0;32m    191\u001B[0m     \u001B[38;5;124m\"\u001B[39m\u001B[38;5;124madsgan\u001B[39m\u001B[38;5;124m\"\u001B[39m,\n\u001B[0;32m    192\u001B[0m     strategy\u001B[38;5;241m=\u001B[39m\u001B[38;5;28mself\u001B[39m\u001B[38;5;241m.\u001B[39mtte_strategy,\n\u001B[1;32m   (...)\u001B[0m\n\u001B[0;32m    201\u001B[0m     \u001B[38;5;241m*\u001B[39m\u001B[38;5;241m*\u001B[39m\u001B[38;5;28mself\u001B[39m\u001B[38;5;241m.\u001B[39mkwargs,\n\u001B[0;32m    202\u001B[0m )\n\u001B[1;32m--> 203\u001B[0m \u001B[38;5;28mself\u001B[39m\u001B[38;5;241m.\u001B[39mmodel\u001B[38;5;241m.\u001B[39mfit(X, cond\u001B[38;5;241m=\u001B[39mtrain_conditional, \u001B[38;5;241m*\u001B[39margs, \u001B[38;5;241m*\u001B[39m\u001B[38;5;241m*\u001B[39mkwargs)\n\u001B[0;32m    205\u001B[0m \u001B[38;5;28;01mreturn\u001B[39;00m \u001B[38;5;28mself\u001B[39m\n",
      "File \u001B[1;32m~\\anaconda3\\envs\\research_project_simulation_env\\lib\\site-packages\\pydantic\\decorator.py:40\u001B[0m, in \u001B[0;36mpydantic.decorator.validate_arguments.validate.wrapper_function\u001B[1;34m()\u001B[0m\n",
      "File \u001B[1;32m~\\anaconda3\\envs\\research_project_simulation_env\\lib\\site-packages\\pydantic\\decorator.py:134\u001B[0m, in \u001B[0;36mpydantic.decorator.ValidatedFunction.call\u001B[1;34m()\u001B[0m\n",
      "File \u001B[1;32m~\\anaconda3\\envs\\research_project_simulation_env\\lib\\site-packages\\pydantic\\decorator.py:206\u001B[0m, in \u001B[0;36mpydantic.decorator.ValidatedFunction.execute\u001B[1;34m()\u001B[0m\n",
      "File \u001B[1;32m~\\anaconda3\\envs\\research_project_simulation_env\\lib\\site-packages\\synthcity\\plugins\\core\\plugin.py:256\u001B[0m, in \u001B[0;36mPlugin.fit\u001B[1;34m(self, X, *args, **kwargs)\u001B[0m\n\u001B[0;32m    248\u001B[0m         X, \u001B[38;5;28mself\u001B[39m\u001B[38;5;241m.\u001B[39mcompress_context \u001B[38;5;241m=\u001B[39m load_from_file(bkp_file)\n\u001B[0;32m    250\u001B[0m \u001B[38;5;28mself\u001B[39m\u001B[38;5;241m.\u001B[39m_training_schema \u001B[38;5;241m=\u001B[39m Schema(\n\u001B[0;32m    251\u001B[0m     data\u001B[38;5;241m=\u001B[39mX,\n\u001B[0;32m    252\u001B[0m     sampling_strategy\u001B[38;5;241m=\u001B[39m\u001B[38;5;28mself\u001B[39m\u001B[38;5;241m.\u001B[39msampling_strategy,\n\u001B[0;32m    253\u001B[0m     random_state\u001B[38;5;241m=\u001B[39m\u001B[38;5;28mself\u001B[39m\u001B[38;5;241m.\u001B[39mrandom_state,\n\u001B[0;32m    254\u001B[0m )\n\u001B[1;32m--> 256\u001B[0m output \u001B[38;5;241m=\u001B[39m \u001B[38;5;28mself\u001B[39m\u001B[38;5;241m.\u001B[39m_fit(X, \u001B[38;5;241m*\u001B[39margs, \u001B[38;5;241m*\u001B[39m\u001B[38;5;241m*\u001B[39mkwargs)\n\u001B[0;32m    257\u001B[0m \u001B[38;5;28mself\u001B[39m\u001B[38;5;241m.\u001B[39mfitted \u001B[38;5;241m=\u001B[39m \u001B[38;5;28;01mTrue\u001B[39;00m\n\u001B[0;32m    259\u001B[0m \u001B[38;5;28;01mreturn\u001B[39;00m output\n",
      "File \u001B[1;32m~\\anaconda3\\envs\\research_project_simulation_env\\lib\\site-packages\\synthcity\\plugins\\survival_analysis\\_survival_pipeline.py:133\u001B[0m, in \u001B[0;36mSurvivalPipeline._fit\u001B[1;34m(self, X, cond, *args, **kwargs)\u001B[0m\n\u001B[0;32m    131\u001B[0m \u001B[38;5;28;01mif\u001B[39;00m \u001B[38;5;28mself\u001B[39m\u001B[38;5;241m.\u001B[39muncensoring_model \u001B[38;5;129;01mis\u001B[39;00m \u001B[38;5;129;01mnot\u001B[39;00m \u001B[38;5;28;01mNone\u001B[39;00m:\n\u001B[0;32m    132\u001B[0m     log\u001B[38;5;241m.\u001B[39minfo(\u001B[38;5;124m\"\u001B[39m\u001B[38;5;124mTrain the uncensoring model\u001B[39m\u001B[38;5;124m\"\u001B[39m)\n\u001B[1;32m--> 133\u001B[0m     \u001B[38;5;28;43mself\u001B[39;49m\u001B[38;5;241;43m.\u001B[39;49m\u001B[43muncensoring_model\u001B[49m\u001B[38;5;241;43m.\u001B[39;49m\u001B[43mfit\u001B[49m\u001B[43m(\u001B[49m\u001B[43mXcov\u001B[49m\u001B[43m,\u001B[49m\u001B[43m \u001B[49m\u001B[43mT\u001B[49m\u001B[43m,\u001B[49m\u001B[43m \u001B[49m\u001B[43mE\u001B[49m\u001B[43m)\u001B[49m\n\u001B[0;32m    135\u001B[0m log\u001B[38;5;241m.\u001B[39minfo(\u001B[38;5;124m\"\u001B[39m\u001B[38;5;124mTrain the synthetic generator\u001B[39m\u001B[38;5;124m\"\u001B[39m)\n\u001B[0;32m    136\u001B[0m \u001B[38;5;28;01mif\u001B[39;00m \u001B[38;5;28mself\u001B[39m\u001B[38;5;241m.\u001B[39mstrategy \u001B[38;5;241m==\u001B[39m \u001B[38;5;124m\"\u001B[39m\u001B[38;5;124muncensoring\u001B[39m\u001B[38;5;124m\"\u001B[39m:\n",
      "File \u001B[1;32m~\\anaconda3\\envs\\research_project_simulation_env\\lib\\site-packages\\pydantic\\decorator.py:40\u001B[0m, in \u001B[0;36mpydantic.decorator.validate_arguments.validate.wrapper_function\u001B[1;34m()\u001B[0m\n",
      "File \u001B[1;32m~\\anaconda3\\envs\\research_project_simulation_env\\lib\\site-packages\\pydantic\\decorator.py:134\u001B[0m, in \u001B[0;36mpydantic.decorator.ValidatedFunction.call\u001B[1;34m()\u001B[0m\n",
      "File \u001B[1;32m~\\anaconda3\\envs\\research_project_simulation_env\\lib\\site-packages\\pydantic\\decorator.py:206\u001B[0m, in \u001B[0;36mpydantic.decorator.ValidatedFunction.execute\u001B[1;34m()\u001B[0m\n",
      "File \u001B[1;32m~\\anaconda3\\envs\\research_project_simulation_env\\lib\\site-packages\\synthcity\\plugins\\core\\models\\time_to_event\\tte_survival_function_regression.py:38\u001B[0m, in \u001B[0;36mSurvivalFunctionTimeToEvent.fit\u001B[1;34m(self, X, T, Y)\u001B[0m\n\u001B[0;32m     35\u001B[0m \u001B[38;5;129m@validate_arguments\u001B[39m(config\u001B[38;5;241m=\u001B[39m\u001B[38;5;28mdict\u001B[39m(arbitrary_types_allowed\u001B[38;5;241m=\u001B[39m\u001B[38;5;28;01mTrue\u001B[39;00m))\n\u001B[0;32m     36\u001B[0m \u001B[38;5;28;01mdef\u001B[39;00m \u001B[38;5;21mfit\u001B[39m(\u001B[38;5;28mself\u001B[39m, X: pd\u001B[38;5;241m.\u001B[39mDataFrame, T: pd\u001B[38;5;241m.\u001B[39mSeries, Y: pd\u001B[38;5;241m.\u001B[39mSeries) \u001B[38;5;241m-\u001B[39m\u001B[38;5;241m>\u001B[39m \u001B[38;5;124m\"\u001B[39m\u001B[38;5;124mTimeToEventPlugin\u001B[39m\u001B[38;5;124m\"\u001B[39m:\n\u001B[0;32m     37\u001B[0m     \u001B[38;5;124m\"\u001B[39m\u001B[38;5;124mTraining logic\u001B[39m\u001B[38;5;124m\"\u001B[39m\n\u001B[1;32m---> 38\u001B[0m     \u001B[38;5;28;43mself\u001B[39;49m\u001B[38;5;241;43m.\u001B[39;49m\u001B[43mmodel\u001B[49m\u001B[38;5;241;43m.\u001B[39;49m\u001B[43mfit\u001B[49m\u001B[43m(\u001B[49m\u001B[43mX\u001B[49m\u001B[43m,\u001B[49m\u001B[43m \u001B[49m\u001B[43mT\u001B[49m\u001B[43m,\u001B[49m\u001B[43m \u001B[49m\u001B[43mY\u001B[49m\u001B[43m)\u001B[49m\n\u001B[0;32m     40\u001B[0m     \u001B[38;5;28mself\u001B[39m\u001B[38;5;241m.\u001B[39mtime_horizons \u001B[38;5;241m=\u001B[39m np\u001B[38;5;241m.\u001B[39mlinspace(\n\u001B[0;32m     41\u001B[0m         T\u001B[38;5;241m.\u001B[39mmin(), T\u001B[38;5;241m.\u001B[39mmax(), \u001B[38;5;28mself\u001B[39m\u001B[38;5;241m.\u001B[39mtime_points, dtype\u001B[38;5;241m=\u001B[39m\u001B[38;5;28mint\u001B[39m\n\u001B[0;32m     42\u001B[0m     )\u001B[38;5;241m.\u001B[39mtolist()\n\u001B[0;32m     44\u001B[0m     surv_fn \u001B[38;5;241m=\u001B[39m \u001B[38;5;28mself\u001B[39m\u001B[38;5;241m.\u001B[39mmodel\u001B[38;5;241m.\u001B[39mpredict(X, time_horizons\u001B[38;5;241m=\u001B[39m\u001B[38;5;28mself\u001B[39m\u001B[38;5;241m.\u001B[39mtime_horizons)\n",
      "File \u001B[1;32m~\\anaconda3\\envs\\research_project_simulation_env\\lib\\site-packages\\pydantic\\decorator.py:40\u001B[0m, in \u001B[0;36mpydantic.decorator.validate_arguments.validate.wrapper_function\u001B[1;34m()\u001B[0m\n",
      "File \u001B[1;32m~\\anaconda3\\envs\\research_project_simulation_env\\lib\\site-packages\\pydantic\\decorator.py:134\u001B[0m, in \u001B[0;36mpydantic.decorator.ValidatedFunction.call\u001B[1;34m()\u001B[0m\n",
      "File \u001B[1;32m~\\anaconda3\\envs\\research_project_simulation_env\\lib\\site-packages\\pydantic\\decorator.py:206\u001B[0m, in \u001B[0;36mpydantic.decorator.ValidatedFunction.execute\u001B[1;34m()\u001B[0m\n",
      "File \u001B[1;32m~\\anaconda3\\envs\\research_project_simulation_env\\lib\\site-packages\\synthcity\\plugins\\core\\models\\survival_analysis\\surv_deephit.py:77\u001B[0m, in \u001B[0;36mDeephitSurvivalAnalysis.fit\u001B[1;34m(self, X, T, E)\u001B[0m\n\u001B[0;32m     74\u001B[0m \u001B[38;5;28;01mdef\u001B[39;00m \u001B[38;5;21mget_target\u001B[39m(df: Any) \u001B[38;5;241m-\u001B[39m\u001B[38;5;241m>\u001B[39m Tuple:\n\u001B[0;32m     75\u001B[0m     \u001B[38;5;28;01mreturn\u001B[39;00m (np\u001B[38;5;241m.\u001B[39masarray(df[\u001B[38;5;241m0\u001B[39m]), np\u001B[38;5;241m.\u001B[39masarray(df[\u001B[38;5;241m1\u001B[39m]))\n\u001B[1;32m---> 77\u001B[0m y_train \u001B[38;5;241m=\u001B[39m \u001B[43mlabtrans\u001B[49m\u001B[38;5;241;43m.\u001B[39;49m\u001B[43mfit_transform\u001B[49m\u001B[43m(\u001B[49m\u001B[38;5;241;43m*\u001B[39;49m\u001B[43mget_target\u001B[49m\u001B[43m(\u001B[49m\u001B[43m(\u001B[49m\u001B[43mT_train\u001B[49m\u001B[43m,\u001B[49m\u001B[43m \u001B[49m\u001B[43mE_train\u001B[49m\u001B[43m)\u001B[49m\u001B[43m)\u001B[49m\u001B[43m)\u001B[49m\n\u001B[0;32m     78\u001B[0m y_val \u001B[38;5;241m=\u001B[39m labtrans\u001B[38;5;241m.\u001B[39mtransform(\u001B[38;5;241m*\u001B[39mget_target((T_val, E_val)))\n\u001B[0;32m     79\u001B[0m \u001B[38;5;28mself\u001B[39m\u001B[38;5;241m.\u001B[39mduration_index \u001B[38;5;241m=\u001B[39m labtrans\u001B[38;5;241m.\u001B[39mcuts\n",
      "File \u001B[1;32m~\\anaconda3\\envs\\research_project_simulation_env\\lib\\site-packages\\pycox\\preprocessing\\label_transforms.py:128\u001B[0m, in \u001B[0;36mLabTransDiscreteTime.fit_transform\u001B[1;34m(self, durations, events)\u001B[0m\n\u001B[0;32m    126\u001B[0m \u001B[38;5;28;01mdef\u001B[39;00m \u001B[38;5;21mfit_transform\u001B[39m(\u001B[38;5;28mself\u001B[39m, durations, events):\n\u001B[0;32m    127\u001B[0m     \u001B[38;5;28mself\u001B[39m\u001B[38;5;241m.\u001B[39mfit(durations, events)\n\u001B[1;32m--> 128\u001B[0m     idx_durations, events \u001B[38;5;241m=\u001B[39m \u001B[38;5;28;43mself\u001B[39;49m\u001B[38;5;241;43m.\u001B[39;49m\u001B[43mtransform\u001B[49m\u001B[43m(\u001B[49m\u001B[43mdurations\u001B[49m\u001B[43m,\u001B[49m\u001B[43m \u001B[49m\u001B[43mevents\u001B[49m\u001B[43m)\u001B[49m\n\u001B[0;32m    129\u001B[0m     \u001B[38;5;28;01mreturn\u001B[39;00m idx_durations, events\n",
      "File \u001B[1;32m~\\anaconda3\\envs\\research_project_simulation_env\\lib\\site-packages\\pycox\\preprocessing\\label_transforms.py:135\u001B[0m, in \u001B[0;36mLabTransDiscreteTime.transform\u001B[1;34m(self, durations, events)\u001B[0m\n\u001B[0;32m    133\u001B[0m durations \u001B[38;5;241m=\u001B[39m durations\u001B[38;5;241m.\u001B[39mastype(\u001B[38;5;28mself\u001B[39m\u001B[38;5;241m.\u001B[39m_dtype)\n\u001B[0;32m    134\u001B[0m events \u001B[38;5;241m=\u001B[39m _values_if_series(events)\n\u001B[1;32m--> 135\u001B[0m idx_durations, events \u001B[38;5;241m=\u001B[39m \u001B[38;5;28;43mself\u001B[39;49m\u001B[38;5;241;43m.\u001B[39;49m\u001B[43midu\u001B[49m\u001B[38;5;241;43m.\u001B[39;49m\u001B[43mtransform\u001B[49m\u001B[43m(\u001B[49m\u001B[43mdurations\u001B[49m\u001B[43m,\u001B[49m\u001B[43m \u001B[49m\u001B[43mevents\u001B[49m\u001B[43m)\u001B[49m\n\u001B[0;32m    136\u001B[0m \u001B[38;5;28;01mreturn\u001B[39;00m idx_durations\u001B[38;5;241m.\u001B[39mastype(\u001B[38;5;124m'\u001B[39m\u001B[38;5;124mint64\u001B[39m\u001B[38;5;124m'\u001B[39m), events\u001B[38;5;241m.\u001B[39mastype(\u001B[38;5;124m'\u001B[39m\u001B[38;5;124mfloat32\u001B[39m\u001B[38;5;124m'\u001B[39m)\n",
      "File \u001B[1;32m~\\anaconda3\\envs\\research_project_simulation_env\\lib\\site-packages\\pycox\\preprocessing\\discretization.py:180\u001B[0m, in \u001B[0;36mIdxDiscUnknownC.transform\u001B[1;34m(self, time, d)\u001B[0m\n\u001B[0;32m    178\u001B[0m \u001B[38;5;28;01mdef\u001B[39;00m \u001B[38;5;21mtransform\u001B[39m(\u001B[38;5;28mself\u001B[39m, time, d):\n\u001B[0;32m    179\u001B[0m     time, d \u001B[38;5;241m=\u001B[39m \u001B[38;5;28mself\u001B[39m\u001B[38;5;241m.\u001B[39mduc\u001B[38;5;241m.\u001B[39mtransform(time, d)\n\u001B[1;32m--> 180\u001B[0m     idx \u001B[38;5;241m=\u001B[39m \u001B[38;5;28;43mself\u001B[39;49m\u001B[38;5;241;43m.\u001B[39;49m\u001B[43mdi\u001B[49m\u001B[38;5;241;43m.\u001B[39;49m\u001B[43mtransform\u001B[49m\u001B[43m(\u001B[49m\u001B[43mtime\u001B[49m\u001B[43m)\u001B[49m\n\u001B[0;32m    181\u001B[0m     \u001B[38;5;28;01mreturn\u001B[39;00m idx, d\n",
      "File \u001B[1;32m~\\anaconda3\\envs\\research_project_simulation_env\\lib\\site-packages\\pycox\\preprocessing\\discretization.py:156\u001B[0m, in \u001B[0;36mDuration2Idx.transform\u001B[1;34m(self, duration, y)\u001B[0m\n\u001B[0;32m    154\u001B[0m \u001B[38;5;28;01mdef\u001B[39;00m \u001B[38;5;21mtransform\u001B[39m(\u001B[38;5;28mself\u001B[39m, duration, y\u001B[38;5;241m=\u001B[39m\u001B[38;5;28;01mNone\u001B[39;00m):\n\u001B[0;32m    155\u001B[0m     \u001B[38;5;28;01mif\u001B[39;00m duration\u001B[38;5;241m.\u001B[39mdtype \u001B[38;5;129;01mis\u001B[39;00m \u001B[38;5;129;01mnot\u001B[39;00m \u001B[38;5;28mself\u001B[39m\u001B[38;5;241m.\u001B[39mdurations\u001B[38;5;241m.\u001B[39mdtype:\n\u001B[1;32m--> 156\u001B[0m         \u001B[38;5;28;01mraise\u001B[39;00m \u001B[38;5;167;01mValueError\u001B[39;00m(\u001B[38;5;124m'\u001B[39m\u001B[38;5;124mNeed `time` to have same type as `self.durations`.\u001B[39m\u001B[38;5;124m'\u001B[39m)\n\u001B[0;32m    157\u001B[0m     idx \u001B[38;5;241m=\u001B[39m \u001B[38;5;28mself\u001B[39m\u001B[38;5;241m.\u001B[39mduration_to_idx(duration)\n\u001B[0;32m    158\u001B[0m     \u001B[38;5;28;01mif\u001B[39;00m np\u001B[38;5;241m.\u001B[39misnan(idx)\u001B[38;5;241m.\u001B[39many():\n",
      "\u001B[1;31mValueError\u001B[0m: Need `time` to have same type as `self.durations`."
     ]
    }
   ],
   "execution_count": 10
  }
 ],
 "metadata": {
  "kernelspec": {
   "display_name": "Python 3",
   "language": "python",
   "name": "python3"
  },
  "language_info": {
   "codemirror_mode": {
    "name": "ipython",
    "version": 2
   },
   "file_extension": ".py",
   "mimetype": "text/x-python",
   "name": "python",
   "nbconvert_exporter": "python",
   "pygments_lexer": "ipython2",
   "version": "2.7.6"
  }
 },
 "nbformat": 4,
 "nbformat_minor": 5
}
