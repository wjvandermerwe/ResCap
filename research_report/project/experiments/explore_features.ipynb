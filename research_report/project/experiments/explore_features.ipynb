{
 "cells": [
  {
   "cell_type": "code",
   "id": "initial_id",
   "metadata": {
    "collapsed": true,
    "ExecuteTime": {
     "end_time": "2024-08-13T18:59:41.394668Z",
     "start_time": "2024-08-13T18:59:40.903390Z"
    }
   },
   "source": [
    "import numpy as np\n",
    "from auton_survival.preprocessing import StandardScaler, SimpleImputer\n",
    "from auton_survival.phenotyping import ClusteringPhenotyper, IntersectionalPhenotyper, SurvivalVirtualTwinsPhenotyper\n",
    "\n",
    "def identify_features(dataset):\n",
    "    numerical_features = dataset.select_dtypes(include=[np.number]).columns.tolist()\n",
    "\n",
    "    featureIdentifier = ClusteringPhenotyper(clustering_method=\"kmeans\", dim_red_method=\"pca\", random_seed=100)\n",
    "    dataset['cluster_labels'] = featureIdentifier.fit_predict(dataset[numerical_features])\n",
    "\n",
    "    return dataset\n",
    "\n",
    "\n",
    "def scale_in_place(dataset):\n",
    "    numerical_features = dataset.select_dtypes(include=[np.number]).columns.tolist()\n",
    "\n",
    "    normalizer = StandardScaler()\n",
    "    dataset[numerical_features] = normalizer.fit_transform(dataset[numerical_features])\n",
    "\n",
    "    return dataset\n",
    "\n",
    "def impute_in_place(dataset):\n",
    "    numerical_features = dataset.select_dtypes(include=[np.number]).columns.tolist()\n",
    "\n",
    "    data_imputer = SimpleImputer()\n",
    "    dataset[numerical_features] = data_imputer.fit_transform(dataset[numerical_features])\n",
    "\n",
    "    return dataset\n",
    "\n",
    "\n"
   ],
   "outputs": [
    {
     "ename": "ModuleNotFoundError",
     "evalue": "No module named 'auton_survival'",
     "output_type": "error",
     "traceback": [
      "\u001B[1;31m---------------------------------------------------------------------------\u001B[0m",
      "\u001B[1;31mModuleNotFoundError\u001B[0m                       Traceback (most recent call last)",
      "Cell \u001B[1;32mIn[1], line 2\u001B[0m\n\u001B[0;32m      1\u001B[0m \u001B[38;5;28;01mimport\u001B[39;00m \u001B[38;5;21;01mnumpy\u001B[39;00m \u001B[38;5;28;01mas\u001B[39;00m \u001B[38;5;21;01mnp\u001B[39;00m\n\u001B[1;32m----> 2\u001B[0m \u001B[38;5;28;01mfrom\u001B[39;00m \u001B[38;5;21;01mauton_survival\u001B[39;00m\u001B[38;5;21;01m.\u001B[39;00m\u001B[38;5;21;01mpreprocessing\u001B[39;00m \u001B[38;5;28;01mimport\u001B[39;00m StandardScaler, SimpleImputer\n\u001B[0;32m      3\u001B[0m \u001B[38;5;28;01mfrom\u001B[39;00m \u001B[38;5;21;01mauton_survival\u001B[39;00m\u001B[38;5;21;01m.\u001B[39;00m\u001B[38;5;21;01mphenotyping\u001B[39;00m \u001B[38;5;28;01mimport\u001B[39;00m ClusteringPhenotyper, IntersectionalPhenotyper, SurvivalVirtualTwinsPhenotyper\n\u001B[0;32m      5\u001B[0m \u001B[38;5;28;01mdef\u001B[39;00m \u001B[38;5;21midentify_features\u001B[39m(dataset):\n",
      "\u001B[1;31mModuleNotFoundError\u001B[0m: No module named 'auton_survival'"
     ]
    }
   ],
   "execution_count": 1
  },
  {
   "metadata": {
    "ExecuteTime": {
     "end_time": "2024-08-06T19:54:17.780352Z",
     "start_time": "2024-08-06T19:54:17.778463Z"
    }
   },
   "cell_type": "code",
   "source": "",
   "id": "5cc741fbe52a6c6f",
   "outputs": [],
   "execution_count": null
  },
  {
   "metadata": {},
   "cell_type": "code",
   "outputs": [],
   "execution_count": null,
   "source": "",
   "id": "d9a4239990b10846"
  }
 ],
 "metadata": {
  "kernelspec": {
   "display_name": "Python 3",
   "language": "python",
   "name": "python3"
  },
  "language_info": {
   "codemirror_mode": {
    "name": "ipython",
    "version": 2
   },
   "file_extension": ".py",
   "mimetype": "text/x-python",
   "name": "python",
   "nbconvert_exporter": "python",
   "pygments_lexer": "ipython2",
   "version": "2.7.6"
  }
 },
 "nbformat": 4,
 "nbformat_minor": 5
}
