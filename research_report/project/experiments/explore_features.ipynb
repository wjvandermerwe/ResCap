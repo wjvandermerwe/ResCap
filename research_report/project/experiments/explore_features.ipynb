{
 "cells": [
  {
   "cell_type": "code",
   "execution_count": null,
   "id": "initial_id",
   "metadata": {
    "collapsed": true
   },
   "outputs": [],
   "source": [
    "import numpy as np\n",
    "from auton_survival.preprocessing import StandardScaler, SimpleImputer\n",
    "from auton_survival.phenotyping import ClusteringPhenotyper, IntersectionalPhenotyper, SurvivalVirtualTwinsPhenotyper\n",
    "\n",
    "def identify_features(dataset):\n",
    "    numerical_features = dataset.select_dtypes(include=[np.number]).columns.tolist()\n",
    "\n",
    "    featureIdentifier = ClusteringPhenotyper(clustering_method=\"kmeans\", dim_red_method=\"pca\", random_seed=100)\n",
    "    dataset['cluster_labels'] = featureIdentifier.fit_predict(dataset[numerical_features])\n",
    "\n",
    "    return dataset\n",
    "\n",
    "\n",
    "def scale_in_place(dataset):\n",
    "    numerical_features = dataset.select_dtypes(include=[np.number]).columns.tolist()\n",
    "\n",
    "    normalizer = StandardScaler()\n",
    "    dataset[numerical_features] = normalizer.fit_transform(dataset[numerical_features])\n",
    "\n",
    "    return dataset\n",
    "\n",
    "def impute_in_place(dataset):\n",
    "    numerical_features = dataset.select_dtypes(include=[np.number]).columns.tolist()\n",
    "\n",
    "    data_imputer = SimpleImputer()\n",
    "    dataset[numerical_features] = data_imputer.fit_transform(dataset[numerical_features])\n",
    "\n",
    "    return dataset\n",
    "\n",
    "\n"
   ]
  }
 ],
 "metadata": {
  "kernelspec": {
   "display_name": "Python 3",
   "language": "python",
   "name": "python3"
  },
  "language_info": {
   "codemirror_mode": {
    "name": "ipython",
    "version": 2
   },
   "file_extension": ".py",
   "mimetype": "text/x-python",
   "name": "python",
   "nbconvert_exporter": "python",
   "pygments_lexer": "ipython2",
   "version": "2.7.6"
  }
 },
 "nbformat": 4,
 "nbformat_minor": 5
}
