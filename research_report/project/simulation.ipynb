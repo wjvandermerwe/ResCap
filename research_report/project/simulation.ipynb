{
 "cells": [
  {
   "metadata": {
    "jupyter": {
     "is_executing": true
    }
   },
   "cell_type": "code",
   "source": [
    "from config import load_datasets\n",
    "import pandas as pd\n",
    "\n",
    "def load_dataset(datasets):\n",
    "    datasets = load_datasets(folder=\"datasets\", names=datasets)\n",
    "    return datasets\n",
    "\n",
    "datasets = load_dataset(['dataDIVAT1_train'])\n",
    "print(datasets['dataDIVAT1_train'].head())"
   ],
   "id": "a89efe4305ed9eac",
   "outputs": [],
   "execution_count": null
  },
  {
   "metadata": {
    "jupyter": {
     "is_executing": true
    }
   },
   "cell_type": "code",
   "source": [
    "from synthcity.plugins import Plugins\n",
    "from synthcity.plugins.core.dataloader import SurvivalAnalysisDataLoader\n",
    "\n",
    "data = SurvivalAnalysisDataLoader(datasets['dataDIVAT1_train'], target_column=\"event\", time_to_event_column=\"time\")\n",
    "model = Plugins().get(\"survival_gan\")\n",
    "model.fit(data)\n",
    "model.generate(1)\n",
    "\n"
   ],
   "id": "initial_id",
   "outputs": [],
   "execution_count": null
  },
  {
   "metadata": {},
   "cell_type": "code",
   "outputs": [],
   "execution_count": null,
   "source": [
    "from synthcity.benchmark import Benchmarks\n",
    "\n",
    "benchmarks = Benchmarks()"
   ],
   "id": "f6ed2b50f167aaee"
  },
  {
   "metadata": {},
   "cell_type": "code",
   "outputs": [],
   "execution_count": null,
   "source": [
    "from synthcity.metrics.eval_sanity import NearestSyntheticNeighborDistance, DataMismatchScore, CommonRowsProportion\n",
    "\n",
    "\n",
    "\n"
   ],
   "id": "9f5eca1cd0b28fcb"
  },
  {
   "metadata": {},
   "cell_type": "code",
   "outputs": [],
   "execution_count": null,
   "source": "",
   "id": "1d681cbc4458c13d"
  }
 ],
 "metadata": {
  "kernelspec": {
   "display_name": "Python 3",
   "language": "python",
   "name": "python3"
  },
  "language_info": {
   "codemirror_mode": {
    "name": "ipython",
    "version": 2
   },
   "file_extension": ".py",
   "mimetype": "text/x-python",
   "name": "python",
   "nbconvert_exporter": "python",
   "pygments_lexer": "ipython2",
   "version": "2.7.6"
  }
 },
 "nbformat": 4,
 "nbformat_minor": 5
}
