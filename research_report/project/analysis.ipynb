{
 "cells": [
  {
   "metadata": {},
   "cell_type": "code",
   "source": [
    "from dataset import load_datasets\n",
    "\n",
    "load_datasets()"
   ],
   "id": "1c436aa7d89d7d06",
   "outputs": [],
   "execution_count": null
  },
  {
   "metadata": {
    "ExecuteTime": {
     "end_time": "2024-07-14T05:52:12.498451Z",
     "start_time": "2024-07-14T05:52:12.146614Z"
    }
   },
   "cell_type": "code",
   "source": [
    "from config import load_datasets\n",
    "import pandas as pd\n",
    "\n",
    "def load_dataset(datasets):\n",
    "    datasets = load_datasets(folder=\"datasets\", names=datasets)\n",
    "    return datasets\n",
    "\n",
    "datasets = load_dataset(['dataDIVAT1_train'])\n",
    "print(datasets['dataDIVAT1_train'].head())\n"
   ],
   "id": "1b0f7b42d03d611c",
   "outputs": [
    {
     "name": "stdout",
     "output_type": "stream",
     "text": [
      "       pid  event  time   num_ageR  num_year_tx fac_sexR fac_graft fac_year_tx\n",
      "1417  1417      0   182  56.732559         2012   female       Yes        2012\n",
      "3683  3683      0  1725  59.314423         2007   female        No        2007\n",
      "4807  4807      0    85  49.619428         2007     male       Yes        2007\n",
      "3994  3994      0     1  27.946008         2011     male        No        2011\n",
      "3220  3220      1   518  26.861790         2000     male        No        2000\n"
     ]
    }
   ],
   "execution_count": 1
  },
  {
   "metadata": {
    "ExecuteTime": {
     "end_time": "2024-07-14T05:52:14.299394Z",
     "start_time": "2024-07-14T05:52:14.296533Z"
    }
   },
   "cell_type": "code",
   "source": [
    "import sys\n",
    "import os\n",
    "# Append the current working directory to sys.path\n",
    "sys.path.append(os.getcwd() + \"/auton-survival\")"
   ],
   "id": "ade616a85c1a961e",
   "outputs": [],
   "execution_count": 2
  },
  {
   "metadata": {
    "ExecuteTime": {
     "end_time": "2024-07-14T05:52:19.288478Z",
     "start_time": "2024-07-14T05:52:17.739922Z"
    }
   },
   "cell_type": "code",
   "source": [
    "from auton import scale_in_place\n",
    "\n",
    "data = scale_in_place(datasets['dataDIVAT1_train'])\n"
   ],
   "id": "f9ee7089df3eb5e8",
   "outputs": [
    {
     "name": "stderr",
     "output_type": "stream",
     "text": [
      "/Users/johan/Documents/personal/studies/ResCap/research_report/project/auton-survival/auton_survival/experiments.py:229: SyntaxWarning: invalid escape sequence '\\('\n",
      "  \"\"\"Verify times are within an appropriate range for model evaluation.\n",
      "/Users/johan/Documents/personal/studies/ResCap/research_report/project/auton-survival/auton_survival/metrics.py:43: SyntaxWarning: invalid escape sequence '\\('\n",
      "  \"\"\"Compute metrics for comparing population level survival outcomes\n"
     ]
    }
   ],
   "execution_count": 3
  },
  {
   "metadata": {},
   "cell_type": "code",
   "source": [
    "from auton import impute_in_place\n",
    "\n",
    "print(impute_in_place(data));"
   ],
   "id": "79fb78fc5d6a686e",
   "outputs": [],
   "execution_count": null
  },
  {
   "metadata": {
    "ExecuteTime": {
     "end_time": "2024-07-14T06:01:52.129879Z",
     "start_time": "2024-07-14T06:01:51.635348Z"
    }
   },
   "cell_type": "code",
   "source": [
    "from auton import identify_features\n",
    "data = identify_features(data)\n",
    "\n",
    "\n",
    "print(data['cluster_labels'].value_counts() );\n",
    "\n",
    "print(data.shape[1])"
   ],
   "id": "b9318a4c59e62c0b",
   "outputs": [
    {
     "name": "stdout",
     "output_type": "stream",
     "text": [
      "Fitting the following Dimensionality Reduction Model:\n",
      " PCA(random_state=100)\n",
      "Fitting the following Clustering Model:\n",
      " KMeans(random_state=100)\n"
     ]
    },
    {
     "name": "stderr",
     "output_type": "stream",
     "text": [
      "/Users/johan/Documents/personal/studies/ResCap/research_report/project/.venv/lib/python3.12/site-packages/sklearn/cluster/_kmeans.py:1416: FutureWarning: The default value of `n_init` will change from 10 to 'auto' in 1.4. Set the value of `n_init` explicitly to suppress the warning\n",
      "  super()._check_params_vs_input(X, default_n_init=10)\n"
     ]
    },
    {
     "name": "stdout",
     "output_type": "stream",
     "text": [
      "cluster_labels\n",
      "1    695\n",
      "6    668\n",
      "2    587\n",
      "0    562\n",
      "3    513\n",
      "5    454\n",
      "7    372\n",
      "4    309\n",
      "Name: count, dtype: int64\n",
      "9\n"
     ]
    }
   ],
   "execution_count": 7
  }
 ],
 "metadata": {
  "kernelspec": {
   "display_name": "Python 3",
   "language": "python",
   "name": "python3"
  },
  "language_info": {
   "codemirror_mode": {
    "name": "ipython",
    "version": 2
   },
   "file_extension": ".py",
   "mimetype": "text/x-python",
   "name": "python",
   "nbconvert_exporter": "python",
   "pygments_lexer": "ipython2",
   "version": "2.7.6"
  }
 },
 "nbformat": 4,
 "nbformat_minor": 5
}
